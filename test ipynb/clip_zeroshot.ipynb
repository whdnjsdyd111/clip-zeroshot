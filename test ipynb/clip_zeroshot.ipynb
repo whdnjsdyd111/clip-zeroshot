{
 "cells": [
  {
   "cell_type": "code",
   "execution_count": 1,
   "id": "86686769",
   "metadata": {},
   "outputs": [],
   "source": [
    "!kill -9 1233966                  "
   ]
  },
  {
   "cell_type": "code",
   "execution_count": null,
   "id": "c7ede3a3",
   "metadata": {},
   "outputs": [],
   "source": [
    "!nvidia-smi"
   ]
  },
  {
   "cell_type": "code",
   "execution_count": 1,
   "id": "ca2ecd19",
   "metadata": {},
   "outputs": [],
   "source": [
    "import numpy as np\n",
    "import argparse\n",
    "import os\n",
    "import matplotlib.pyplot as plt\n",
    "from tqdm import tqdm\n",
    "\n",
    "import torch\n",
    "from torch.utils.data import DataLoader\n",
    "from torchvision.datasets import CIFAR100, CIFAR10"
   ]
  },
  {
   "cell_type": "code",
   "execution_count": 2,
   "id": "0452c2ef",
   "metadata": {},
   "outputs": [],
   "source": [
    "import clip"
   ]
  },
  {
   "cell_type": "code",
   "execution_count": 3,
   "id": "3848e425",
   "metadata": {},
   "outputs": [],
   "source": [
    "def zeroshot_classifier(classnames, templates):\n",
    "    with torch.no_grad():\n",
    "        zeroshot_weights = []\n",
    "        \n",
    "        for classname in tqdm(classnames):\n",
    "            texts = [template.format(classname) for template in templates]\n",
    "            texts = clip.tokenize(texts).cuda()\n",
    "            \n",
    "            class_embeddings = model.encode_text(texts)\n",
    "            class_embeddings /= class_embeddings.norm(dim=-1, keepdim=True)\n",
    "            class_embedding = class_embeddings.mean(dim=0)\n",
    "            class_embedding /= class_embedding.norm()\n",
    "            \n",
    "            zeroshot_weights.append(class_embedding)\n",
    "            \n",
    "        zeroshot_weights = torch.stack(zeroshot_weights, dim=1).cuda()\n",
    "        \n",
    "    return zeroshot_weights"
   ]
  },
  {
   "cell_type": "code",
   "execution_count": 4,
   "id": "fc8c4969",
   "metadata": {},
   "outputs": [],
   "source": [
    "def accuracy(output, target, topk=(1,), ensemble=False):\n",
    "    \n",
    "    if ensemble:\n",
    "        output = output.topk(1, 1, True, True)[0]\n",
    "        output = output.reshape(100, 100)\n",
    "    \n",
    "    pred = output.topk(max(topk), 1, True, True)[1].t()\n",
    "    correct = pred.eq(target.view(1, -1).expand_as(pred))\n",
    "    return [float(correct[:k].reshape(-1).float().sum(0, keepdim=True).cpu().numpy()) for k in topk]"
   ]
  },
  {
   "cell_type": "code",
   "execution_count": 5,
   "id": "6dbdeca2",
   "metadata": {},
   "outputs": [],
   "source": [
    "def zeroshot_learning(model, dataset, dataloader, prompt, ensemble=False):\n",
    "    with torch.no_grad():\n",
    "        \n",
    "        if ensemble == False:\n",
    "            zeroshot_weights = zeroshot_classifier(dataset.classes, prompt)\n",
    "        else:\n",
    "            zeroshot_weights = [\n",
    "                zeroshot_classifier(dataset.classes, [p]) for p in prompt\n",
    "            ]\n",
    "        \n",
    "        top1, top5, n = 0., 0., 0.\n",
    "\n",
    "        for i, (images, targets) in enumerate(tqdm(dataloader)):\n",
    "            images, targets = images.cuda(), targets.cuda()\n",
    "            \n",
    "            \n",
    "            images_features = model.encode_image(images)\n",
    "            images_features /= images_features.norm(dim=-1, keepdim=True)\n",
    "            \n",
    "            # predict\n",
    "            if ensemble == False:\n",
    "                logits = 100. * images_features @ zeroshot_weights\n",
    "            else:\n",
    "#                 logits = 0\n",
    "                \n",
    "#                 for zeroshot_weight in zeroshot_weights:\n",
    "#                     logits += 100. * images_features @ zeroshot_weight\n",
    "                    \n",
    "#                 logits /= len(zeroshot_weights)\n",
    "                logits = []\n",
    "                \n",
    "                for zeroshot_weight in zeroshot_weights:\n",
    "                    logits.append(100. * images_features @ zeroshot_weight)\n",
    "                    \n",
    "                logits = torch.stack(logits, dim=1)\n",
    "            \n",
    "\n",
    "            # measuer accuracy\n",
    "            acc1, acc5 = accuracy(logits, targets, topk=(1, 5), ensemble=ensemble)\n",
    "            top1 += acc1\n",
    "            top5 += acc5\n",
    "            n += images.size(0)\n",
    "\n",
    "        top1 = (top1 / n) * 100\n",
    "        top5 = (top5 / n) * 100\n",
    "\n",
    "    if os.path.exists('./results.txt') == False:\n",
    "        with open('./results.txt', 'w') as f:\n",
    "            f.write('zeroshot learning results\\n\\n')\n",
    "            f.write('---------- cifar10 ----------\\n')\n",
    "            for p in prompt:\n",
    "                f.write(f'{p.format(\"[CLASS]\")} \\n')\n",
    "                \n",
    "            f.write(f'ensemble: {ensemble}   top1: {top1:.2f}    top5: {top5:.2f} \\n')\n",
    "    else:\n",
    "        with open('./results.txt', 'a') as f:\n",
    "            f.write('\\n')\n",
    "            f.write('---------- cifar10 ----------\\n')\n",
    "            for p in prompt:\n",
    "                f.write(f'{p.format(\"[CLASS]\")} \\n')\n",
    "                \n",
    "            f.write(f'ensemble: {ensemble}   top1: {top1:.2f}    top5: {top5:.2f} \\n')\n",
    "        \n",
    "        \n",
    "    return top1, top5"
   ]
  },
  {
   "cell_type": "code",
   "execution_count": 6,
   "id": "72cc13c0",
   "metadata": {},
   "outputs": [
    {
     "name": "stdout",
     "output_type": "stream",
     "text": [
      "['RN50', 'RN101', 'RN50x4', 'RN50x16', 'RN50x64', 'ViT-B/32', 'ViT-B/16', 'ViT-L/14', 'ViT-L/14@336px']\n"
     ]
    }
   ],
   "source": [
    "model_name = 'ViT-L/14@336px'\n",
    "batch_size = 100\n",
    "\n",
    "available_model = clip.available_models()\n",
    "\n",
    "print(available_model)\n",
    "\n",
    "assert model_name in available_model"
   ]
  },
  {
   "cell_type": "code",
   "execution_count": 7,
   "id": "09baac56",
   "metadata": {},
   "outputs": [
    {
     "name": "stdout",
     "output_type": "stream",
     "text": [
      "Model parameters: 427,944,193\n",
      "Input resolution: 336\n",
      "Context length: 77\n",
      "Vocab size: 49408\n",
      "Compose(\n",
      "    Resize(size=336, interpolation=bicubic, max_size=None, antialias=None)\n",
      "    CenterCrop(size=(336, 336))\n",
      "    <function _convert_image_to_rgb at 0x7f083b127ee0>\n",
      "    ToTensor()\n",
      "    Normalize(mean=(0.48145466, 0.4578275, 0.40821073), std=(0.26862954, 0.26130258, 0.27577711))\n",
      ")\n"
     ]
    }
   ],
   "source": [
    "model, preprocess = clip.load(model_name)\n",
    "model.cuda().eval()\n",
    "\n",
    "input_resolution = model.visual.input_resolution\n",
    "context_length = model.context_length\n",
    "vocab_size = model.vocab_size\n",
    "\n",
    "print(\"Model parameters:\", f\"{np.sum([int(np.prod(p.shape)) for p in model.parameters()]):,}\")\n",
    "print(\"Input resolution:\", input_resolution)\n",
    "print(\"Context length:\", context_length)\n",
    "print(\"Vocab size:\", vocab_size)\n",
    "print(preprocess)"
   ]
  },
  {
   "cell_type": "code",
   "execution_count": 8,
   "id": "1ef01482",
   "metadata": {},
   "outputs": [],
   "source": [
    "prompt = [\n",
    "    'a bad photo of a {}.',\n",
    "    'a photo of many {}.',\n",
    "    'a sculpture of a {}.',\n",
    "    'a photo of the hard to see {}.',\n",
    "    'a low resolution photo of the {}.',\n",
    "    'a rendering of a {}.',\n",
    "    'graffiti of a {}.',\n",
    "    'a bad photo of the {}.',\n",
    "    'a cropped photo of the {}.',\n",
    "    'a tattoo of a {}.',\n",
    "    'the embroidered {}.',\n",
    "    'a photo of a hard to see {}.',\n",
    "    'a bright photo of a {}.',\n",
    "    'a photo of a clean {}.',\n",
    "    'a photo of a dirty {}.',\n",
    "    'a dark photo of the {}.',\n",
    "    'a drawing of a {}.',\n",
    "    'a photo of my {}.',\n",
    "    'the plastic {}.',\n",
    "    'a photo of the cool {}.',\n",
    "    'a close-up photo of a {}.',\n",
    "    'a black and white photo of the {}.',\n",
    "    'a painting of the {}.',\n",
    "    'a painting of a {}.',\n",
    "    'a pixelated photo of the {}.',\n",
    "    'a sculpture of the {}.',\n",
    "    'a bright photo of the {}.',\n",
    "    'a cropped photo of a {}.',\n",
    "    'a plastic {}.',\n",
    "    'a photo of the dirty {}.',\n",
    "    'a jpeg corrupted photo of a {}.',\n",
    "    'a blurry photo of the {}.',\n",
    "    'a photo of the {}.',\n",
    "    'a good photo of the {}.',\n",
    "    'a rendering of the {}.',\n",
    "    'a {} in a video game.',\n",
    "    'a photo of one {}.',\n",
    "    'a doodle of a {}.',\n",
    "    'a close-up photo of the {}.',\n",
    "    'a photo of a {}.',\n",
    "    'the origami {}.',\n",
    "    'the {} in a video game.',\n",
    "    'a sketch of a {}.',\n",
    "    'a doodle of the {}.',\n",
    "    'a origami {}.',\n",
    "    'a low resolution photo of a {}.',\n",
    "    'the toy {}.',\n",
    "    'a rendition of the {}.',\n",
    "    'a photo of the clean {}.',\n",
    "    'a photo of a large {}.',\n",
    "    'a rendition of a {}.',\n",
    "    'a photo of a nice {}.',\n",
    "    'a photo of a weird {}.',\n",
    "    'a blurry photo of a {}.',\n",
    "    'a cartoon {}.',\n",
    "    'art of a {}.',\n",
    "    'a sketch of the {}.',\n",
    "    'a embroidered {}.',\n",
    "    'a pixelated photo of a {}.',\n",
    "    'itap of the {}.',\n",
    "    'a jpeg corrupted photo of the {}.',\n",
    "    'a good photo of a {}.',\n",
    "    'a plushie {}.',\n",
    "    'a photo of the nice {}.',\n",
    "    'a photo of the small {}.',\n",
    "    'a photo of the weird {}.',\n",
    "    'the cartoon {}.',\n",
    "    'art of the {}.',\n",
    "    'a drawing of the {}.',\n",
    "    'a photo of the large {}.',\n",
    "    'a black and white photo of a {}.',\n",
    "    'the plushie {}.',\n",
    "    'a dark photo of a {}.',\n",
    "    'itap of a {}.',\n",
    "    'graffiti of the {}.',\n",
    "    'a toy {}.',\n",
    "    'itap of my {}.',\n",
    "    'a photo of a cool {}.',\n",
    "    'a photo of a small {}.',\n",
    "    'a tattoo of the {}.',\n",
    "]"
   ]
  },
  {
   "cell_type": "code",
   "execution_count": 9,
   "id": "72eb121f",
   "metadata": {},
   "outputs": [],
   "source": [
    "prompt = [\n",
    "    'This is a photo of a {}',\n",
    "    'This is a photo of {}'\n",
    "]"
   ]
  },
  {
   "cell_type": "code",
   "execution_count": 9,
   "id": "3b9bca97",
   "metadata": {},
   "outputs": [
    {
     "name": "stderr",
     "output_type": "stream",
     "text": [
      "100%|███████████████████████████████████████████████████████████████████████████████████| 10/10 [00:00<00:00, 13.03it/s]\n",
      "100%|█████████████████████████████████████████████████████████████████████████████████| 100/100 [01:41<00:00,  1.02s/it]"
     ]
    },
    {
     "name": "stdout",
     "output_type": "stream",
     "text": [
      "cifar10 Top-1 accuracy: 95.17\n",
      "cifar10 Top-5 accuracy: 99.66\n"
     ]
    },
    {
     "name": "stderr",
     "output_type": "stream",
     "text": [
      "\n"
     ]
    }
   ],
   "source": [
    "cifar10 = CIFAR10('./cifar10_data', train=False, transform=preprocess, download=False)\n",
    "cifar10_dataloader = DataLoader(cifar10, batch_size=batch_size, shuffle=False)\n",
    "\n",
    "top1, top5 = zeroshot_learning(model, cifar10, cifar10_dataloader, prompt, False)\n",
    "\n",
    "print(f'cifar10 Top-1 accuracy: {top1:.2f}')\n",
    "print(f'cifar10 Top-5 accuracy: {top5:.2f}')"
   ]
  },
  {
   "cell_type": "code",
   "execution_count": 10,
   "id": "f8efdef2",
   "metadata": {},
   "outputs": [
    {
     "name": "stderr",
     "output_type": "stream",
     "text": [
      "100%|█████████████████████████████████████████████████████████████████████████████████| 100/100 [00:03<00:00, 33.08it/s]\n",
      "100%|█████████████████████████████████████████████████████████████████████████████████| 100/100 [01:41<00:00,  1.02s/it]"
     ]
    },
    {
     "name": "stdout",
     "output_type": "stream",
     "text": [
      "cifar100 Top-1 accuracy: 75.65\n",
      "cifar100 Top-5 accuracy: 93.27\n"
     ]
    },
    {
     "name": "stderr",
     "output_type": "stream",
     "text": [
      "\n"
     ]
    }
   ],
   "source": [
    "cifar100 = CIFAR100('./cifar100_data', train=False, transform=preprocess, download=False)\n",
    "cifar100_dataloader = DataLoader(cifar100, batch_size=batch_size, shuffle=False)\n",
    "\n",
    "top1, top5 = zeroshot_learning(model, cifar100, cifar100_dataloader, prompt, False)\n",
    "\n",
    "print(f'cifar100 Top-1 accuracy: {top1:.2f}')\n",
    "print(f'cifar100 Top-5 accuracy: {top5:.2f}')"
   ]
  }
 ],
 "metadata": {
  "kernelspec": {
   "display_name": "Python 3 (ipykernel)",
   "language": "python",
   "name": "python3"
  },
  "language_info": {
   "codemirror_mode": {
    "name": "ipython",
    "version": 3
   },
   "file_extension": ".py",
   "mimetype": "text/x-python",
   "name": "python",
   "nbconvert_exporter": "python",
   "pygments_lexer": "ipython3",
   "version": "3.8.16"
  }
 },
 "nbformat": 4,
 "nbformat_minor": 5
}
